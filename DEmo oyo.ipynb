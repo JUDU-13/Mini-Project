{
 "cells": [
  {
   "cell_type": "code",
   "execution_count": 1,
   "metadata": {},
   "outputs": [
    {
     "ename": "AttributeError",
     "evalue": "'NoneType' object has no attribute 'contents'",
     "output_type": "error",
     "traceback": [
      "\u001b[1;31m---------------------------------------------------------------------------\u001b[0m",
      "\u001b[1;31mAttributeError\u001b[0m                            Traceback (most recent call last)",
      "Cell \u001b[1;32mIn[1], line 25\u001b[0m\n\u001b[0;32m     23\u001b[0m \u001b[39m# Find the flight details in the script tag\u001b[39;00m\n\u001b[0;32m     24\u001b[0m script \u001b[39m=\u001b[39m soup\u001b[39m.\u001b[39mfind(\u001b[39m\"\u001b[39m\u001b[39mscript\u001b[39m\u001b[39m\"\u001b[39m, \u001b[39mid\u001b[39m\u001b[39m=\u001b[39m\u001b[39m\"\u001b[39m\u001b[39mcachedResultsJson\u001b[39m\u001b[39m\"\u001b[39m)\n\u001b[1;32m---> 25\u001b[0m data \u001b[39m=\u001b[39m script\u001b[39m.\u001b[39;49mcontents[\u001b[39m0\u001b[39m]\u001b[39m.\u001b[39mstrip()\n\u001b[0;32m     27\u001b[0m \u001b[39m# Convert the JSON data to a dictionary\u001b[39;00m\n\u001b[0;32m     28\u001b[0m \u001b[39mimport\u001b[39;00m \u001b[39mjson\u001b[39;00m\n",
      "\u001b[1;31mAttributeError\u001b[0m: 'NoneType' object has no attribute 'contents'"
     ]
    }
   ],
   "source": [
    "\n",
    "# Import modules\n",
    "import requests\n",
    "from bs4 import BeautifulSoup\n",
    "import pandas as pd\n",
    "\n",
    "# Define the base URL and parameters\n",
    "base_url = \"https://www.makemytrip.com/flight/search\"\n",
    "params = {\n",
    "    \"tripType\": \"R\",\n",
    "    \"itinerary\": \"BLR-DEL-10/04/2023_DEL-BLR-11/04/2023\",\n",
    "    \"paxType\": \"A-1_C-0_I-0\",\n",
    "    \"cabinClass\": \"E\",\n",
    "    \"intl\": \"false\",\n",
    "    \"cmp\": \"MT\",\n",
    "    \"visc\": \"c\",\n",
    "    \"cur\": \"INR\"\n",
    "}\n",
    "\n",
    "# Make a GET request and parse the HTML response\n",
    "response = requests.get(base_url, params=params)\n",
    "soup = BeautifulSoup(response.text, \"html.parser\")\n",
    "\n",
    "# Find the flight details in the script tag\n",
    "script = soup.find(\"script\", id=\"cachedResultsJson\")\n",
    "data = script.contents[0].strip()\n",
    "\n",
    "# Convert the JSON data to a dictionary\n",
    "import json\n",
    "flights = json.loads(data)\n",
    "\n",
    "# Extract the relevant information from the dictionary\n",
    "results = []\n",
    "for flight in flights[\"onwardFlights\"]:\n",
    "    result = {\n",
    "        \"airline\": flight[\"airline\"],\n",
    "        \"departure_time\": flight[\"depTime\"],\n",
    "        \"arrival_time\": flight[\"arrTime\"],\n",
    "        \"duration\": flight[\"duration\"],\n",
    "        \"price\": flight[\"fare\"][\"totalfare\"]\n",
    "    }\n",
    "    results.append(result)\n",
    "\n",
    "# Convert the results to a pandas dataframe\n",
    "df = pd.DataFrame(results)\n",
    "\n",
    "# Print the dataframe\n",
    "print(df)\n"
   ]
  },
  {
   "cell_type": "code",
   "execution_count": 1,
   "metadata": {},
   "outputs": [
    {
     "name": "stdout",
     "output_type": "stream",
     "text": [
      "[{'pricing': None, 'address': None}]\n"
     ]
    }
   ],
   "source": [
    "import requests \n",
    "from bs4 import BeautifulSoup as Soup\n",
    "headers = {'User-Agent': 'User-Agent: Mozilla/5.0 (Windows NT 10.0; Win64; x64) AppleWebKit/537.36 (KHTML, like Gecko) Chrome/111.0.0.0 Safari/537.36'}\n",
    "for page in range(1,11):\n",
    "    req = requests.get(\"https://www.oyorooms.com/hotels-in-bangalore/{}_p/\".format(page), headers=headers).text\n",
    "\n",
    "    soup = Soup(req, 'lxml')\n",
    "\n",
    "    apts = soup.find_all(\"div\", {\"class\": \"listing__contentWrapper\"})\n",
    "\n",
    "    l = []\n",
    "    obj = {}\n",
    "\n",
    "    for a in range(0, len(apts)):\n",
    "    \n",
    "        obj[\"pricing\"] = apts[a].find(\"span\", {\"class\": \"listingPrice__finalPrice\"})\n",
    "        \n",
    "        obj[\"address\"] = apts[a].find(\"a\", {\"class\": \"c-nn640c u-width100\"})\n",
    "        \n",
    "        l.append(obj)\n",
    "        obj = {}\n",
    "\n",
    "print(l)"
   ]
  },
  {
   "cell_type": "code",
   "execution_count": 5,
   "metadata": {},
   "outputs": [
    {
     "ename": "NameError",
     "evalue": "name 'header' is not defined",
     "output_type": "error",
     "traceback": [
      "\u001b[1;31m---------------------------------------------------------------------------\u001b[0m",
      "\u001b[1;31mNameError\u001b[0m                                 Traceback (most recent call last)",
      "Cell \u001b[1;32mIn[5], line 2\u001b[0m\n\u001b[0;32m      1\u001b[0m \u001b[39mfor\u001b[39;00m page \u001b[39min\u001b[39;00m \u001b[39mrange\u001b[39m(\u001b[39m1\u001b[39m,\u001b[39m11\u001b[39m):\n\u001b[1;32m----> 2\u001b[0m     req \u001b[39m=\u001b[39m requests\u001b[39m.\u001b[39mget(\u001b[39m\"\u001b[39m\u001b[39mhttps://www.zillow.com/orlando-fl/apartments/\u001b[39m\u001b[39m{}\u001b[39;00m\u001b[39m_p/\u001b[39m\u001b[39m\"\u001b[39m\u001b[39m.\u001b[39mformat(page), headers\u001b[39m=\u001b[39mheader)\u001b[39m.\u001b[39mtext\n\u001b[0;32m      4\u001b[0m     soup \u001b[39m=\u001b[39m BeautifulSoup(req, \u001b[39m'\u001b[39m\u001b[39mhtml.parser\u001b[39m\u001b[39m'\u001b[39m)\n\u001b[0;32m      6\u001b[0m     apts \u001b[39m=\u001b[39m soup\u001b[39m.\u001b[39mfind_all(\u001b[39m\"\u001b[39m\u001b[39mdiv\u001b[39m\u001b[39m\"\u001b[39m, {\u001b[39m\"\u001b[39m\u001b[39mclass\u001b[39m\u001b[39m\"\u001b[39m: \u001b[39m\"\u001b[39m\u001b[39mStyledPropertyCardDataWrapper-c11n-8-73-8__sc-1omp4c3-0 gXNuqr property-card-data\u001b[39m\u001b[39m\"\u001b[39m})\n",
      "\u001b[1;31mNameError\u001b[0m: name 'header' is not defined"
     ]
    }
   ],
   "source": [
    "for page in range(1,11):\n",
    "    req = requests.get(\"https://www.zillow.com/orlando-fl/apartments/{}_p/\".format(page), headers=header).text\n",
    "\n",
    "    soup = BeautifulSoup(req, 'html.parser')\n",
    "\n",
    "    apts = soup.find_all(\"div\", {\"class\": \"StyledPropertyCardDataWrapper-c11n-8-73-8__sc-1omp4c3-0 gXNuqr property-card-data\"})\n",
    "\n",
    "    l = []\n",
    "    obj = {}\n",
    "\n",
    "    for a in range(0, len(apts)):\n",
    "        try:\n",
    "            obj[\"pricing\"] = apts[a].find(\"div\", {\"class\": \"StyledPropertyCardDataArea-c11n-8-73-8__sc-yipmu-0 hRqIYX\"}).text\n",
    "        except: obj[\"pricing\"] = None\n",
    "        try:\n",
    "            obj[\"address\"] = apts[a].find(\"a\", {\"class\": \"StyledPropertyCardDataArea-c11n-8-73-8__sc-yipmu-0 lhIXlm property-card-link\"}).text\n",
    "        except:\n",
    "            obj[\"address\"] = None\n",
    "        try:\n",
    "            obj[\"space\"] = apts[a].find(\"div\", {\"class\": \"StyledPropertyCardDataArea-c11n-8-73-8__sc-yipmu-0 ghGYOB\"}).text\n",
    "        except:\n",
    "            obj[\"space\"] = None\n",
    "        l.append(obj)\n",
    "        obj = {}\n",
    "print(l)"
   ]
  }
 ],
 "metadata": {
  "kernelspec": {
   "display_name": "Python 3",
   "language": "python",
   "name": "python3"
  },
  "language_info": {
   "codemirror_mode": {
    "name": "ipython",
    "version": 3
   },
   "file_extension": ".py",
   "mimetype": "text/x-python",
   "name": "python",
   "nbconvert_exporter": "python",
   "pygments_lexer": "ipython3",
   "version": "3.10.0"
  },
  "orig_nbformat": 4
 },
 "nbformat": 4,
 "nbformat_minor": 2
}
