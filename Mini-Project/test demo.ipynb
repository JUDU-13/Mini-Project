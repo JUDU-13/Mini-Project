{
 "cells": [
  {
   "cell_type": "code",
   "execution_count": 7,
   "metadata": {},
   "outputs": [],
   "source": [
    "import requests\n",
    "from bs4 import BeautifulSoup\n",
    "\n",
    "header = {\"User-Agent\": \"Mozilla/5.0 (Macintosh; Intel Mac OS X 10_15_7) AppleWebKit/537.36 (KHTML, like Gecko) Chrome/92.0.4515.159 Safari/537.36\"}\n",
    "\n",
    "req = requests.get(\"https://www.zillow.com/orlando-fl/apartments\", headers=header).text\n",
    "\n",
    "soup = BeautifulSoup(req, 'html.parser')\n",
    "\n",
    "apts = soup.find_all(\"div\", {\"class\": \"StyledPropertyCardDataWrapper-c11n-8-73-8__sc-1omp4c3-0 gXNuqr property-card-data\"})"
   ]
  },
  {
   "cell_type": "code",
   "execution_count": 8,
   "metadata": {},
   "outputs": [
    {
     "name": "stdout",
     "output_type": "stream",
     "text": [
      "200\n"
     ]
    }
   ],
   "source": [
    "import requests\n",
    "from bs4 import BeautifulSoup\n",
    "\n",
    "header = {\"User-Agent\": \"Mozilla/5.0 (Macintosh; Intel Mac OS X 10_15_7) AppleWebKit/537.36 (KHTML, like Gecko) Chrome/92.0.4515.159 Safari/537.36\"}\n",
    "\n",
    "req = requests.get(\"https://www.zillow.com/orlando-fl/apartments\", headers=header).status_code\n",
    "\n",
    "print(req)"
   ]
  },
  {
   "cell_type": "code",
   "execution_count": 9,
   "metadata": {},
   "outputs": [
    {
     "ename": "NameError",
     "evalue": "name 'x' is not defined",
     "output_type": "error",
     "traceback": [
      "\u001b[1;31m---------------------------------------------------------------------------\u001b[0m",
      "\u001b[1;31mNameError\u001b[0m                                 Traceback (most recent call last)",
      "Cell \u001b[1;32mIn[9], line 1\u001b[0m\n\u001b[1;32m----> 1\u001b[0m x  \u001b[39m# Pricing\u001b[39;00m\n\u001b[0;32m      3\u001b[0m {\u001b[39m\"\u001b[39m\u001b[39mclass\u001b[39m\u001b[39m\"\u001b[39m: \u001b[39m\"\u001b[39m\u001b[39mStyledPropertyCardDataArea-c11n-8-73-8__sc-yipmu-0 hRqIYX\u001b[39m\u001b[39m\"\u001b[39m}\n\u001b[0;32m      5\u001b[0m \u001b[39m# Address\u001b[39;00m\n",
      "\u001b[1;31mNameError\u001b[0m: name 'x' is not defined"
     ]
    }
   ],
   "source": [
    "x  # Pricing\n",
    "\n",
    "{\"class\": \"StyledPropertyCardDataArea-c11n-8-73-8__sc-yipmu-0 hRqIYX\"}\n",
    "\n",
    "# Address\n",
    "\n",
    "{\"class\": \"StyledPropertyCardDataArea-c11n-8-73-8__sc-yipmu-0 lhIXlm property-card-link\"}\n",
    "\n",
    "# Space\n",
    "\n",
    "{\"class\": \"StyledPropertyCardDataArea-c11n-8-73-8__sc-yipmu-0 ghGYOB\"}\n"
   ]
  }
 ],
 "metadata": {
  "kernelspec": {
   "display_name": "Python 3",
   "language": "python",
   "name": "python3"
  },
  "language_info": {
   "codemirror_mode": {
    "name": "ipython",
    "version": 3
   },
   "file_extension": ".py",
   "mimetype": "text/x-python",
   "name": "python",
   "nbconvert_exporter": "python",
   "pygments_lexer": "ipython3",
   "version": "3.10.0"
  },
  "orig_nbformat": 4,
  "vscode": {
   "interpreter": {
    "hash": "38ee9951ba56c9c9fe4685af4237f1eee8f6ab253bef24e2be2405bc7ad711a6"
   }
  }
 },
 "nbformat": 4,
 "nbformat_minor": 2
}
